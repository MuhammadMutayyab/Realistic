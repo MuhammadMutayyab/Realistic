{
 "cells": [
  {
   "cell_type": "markdown",
   "metadata": {},
   "source": [
    "# If-else Example"
   ]
  },
  {
   "cell_type": "code",
   "execution_count": 1,
   "metadata": {},
   "outputs": [
    {
     "name": "stdout",
     "output_type": "stream",
     "text": [
      "Alien Color is :yellow\n",
      " The player just earned 10 points.\n",
      "Alien is no more.....\n"
     ]
    }
   ],
   "source": [
    "Alien_Color=input(\"Alien Color is :\")\n",
    "if Alien_Color == \"red\":\n",
    "    print(\" The player just earned 5 points for shooting the alien.\")\n",
    "if Alien_Color != \"green\":\n",
    "    print(\" The player just earned 10 points.\")\n",
    "if Alien_Color != \"green\" or Alien_Color != \"red\":\n",
    "    print(\"Alien is no more.....\")"
   ]
  },
  {
   "cell_type": "code",
   "execution_count": null,
   "metadata": {},
   "outputs": [],
   "source": []
  }
 ],
 "metadata": {
  "kernelspec": {
   "display_name": "Python 3",
   "language": "python",
   "name": "python3"
  },
  "language_info": {
   "codemirror_mode": {
    "name": "ipython",
    "version": 3
   },
   "file_extension": ".py",
   "mimetype": "text/x-python",
   "name": "python",
   "nbconvert_exporter": "python",
   "pygments_lexer": "ipython3",
   "version": "3.7.3"
  }
 },
 "nbformat": 4,
 "nbformat_minor": 2
}
