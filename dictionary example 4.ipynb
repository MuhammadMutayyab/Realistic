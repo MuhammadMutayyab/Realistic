{
 "cells": [
  {
   "cell_type": "code",
   "execution_count": 1,
   "metadata": {},
   "outputs": [
    {
     "name": "stdout",
     "output_type": "stream",
     "text": [
      "{'pet_type': 'cat', 'name': 'maano', 'owner_name': 'bushra', 'color': 'white'}\n",
      "{'pet_type': 'dog', 'name': 'roshi', 'owner_name': 'zahid', 'color': 'black'}\n",
      "{'pet_type': 'parrot', 'name': 'mithoo', 'owner_name': 'zaheeer', 'color': 'green'}\n"
     ]
    }
   ],
   "source": [
    "cat = {\n",
    "    \"pet_type\":\"cat\",\n",
    "    \"name\":\"maano\",\n",
    "    \"owner_name\":\"bushra\",\n",
    "    \"color\":\"white\",\n",
    "}\n",
    "\n",
    "dog = {\n",
    "    \"pet_type\":\"dog\",\n",
    "    \"name\":\"roshi\",\n",
    "    \"owner_name\":\"zahid\",\n",
    "    \"color\":\"black\",\n",
    "}\n",
    "\n",
    "parrot = {\n",
    "    \"pet_type\":\"parrot\",\n",
    "    \"name\":\"mithoo\",\n",
    "    \"owner_name\":\"zaheeer\",\n",
    "    \"color\":\"green\",\n",
    "}\n",
    "\n",
    "pets = [cat , dog , parrot]\n",
    "for pet in pets:\n",
    "    print(pet)"
   ]
  },
  {
   "cell_type": "code",
   "execution_count": 2,
   "metadata": {},
   "outputs": [
    {
     "name": "stdout",
     "output_type": "stream",
     "text": [
      "\n",
      "Pet_Type:  \"Cat\".\n",
      "\n",
      "Name:  \"Maano\".\n",
      "\n",
      "Owner_Name:  \"Bushra\".\n",
      "\n",
      "Color:  \"White\".\n",
      "\n",
      "***********\n",
      "\n",
      "Pet_Type:  \"Dog\".\n",
      "\n",
      "Name:  \"Roshi\".\n",
      "\n",
      "Owner_Name:  \"Zahid\".\n",
      "\n",
      "Color:  \"Black\".\n",
      "\n",
      "***********\n",
      "\n",
      "Pet_Type:  \"Parrot\".\n",
      "\n",
      "Name:  \"Mithoo\".\n",
      "\n",
      "Owner_Name:  \"Zaheeer\".\n",
      "\n",
      "Color:  \"Green\".\n",
      "\n",
      "***********\n"
     ]
    }
   ],
   "source": [
    "for k,v in cat.items():\n",
    "    print(\"\\n\" + k.title() + \":  \\\"\" + v.title() + \"\\\".\")\n",
    "print(\"\\n***********\")\n",
    "\n",
    "for k,v in dog.items():\n",
    "    print(\"\\n\" + k.title() + \":  \\\"\" + v.title() + \"\\\".\")\n",
    "print(\"\\n***********\")\n",
    "\n",
    "for k,v in parrot.items():\n",
    "    print(\"\\n\" + k.title() + \":  \\\"\" + v.title() + \"\\\".\")\n",
    "print(\"\\n***********\")"
   ]
  },
  {
   "cell_type": "code",
   "execution_count": null,
   "metadata": {},
   "outputs": [],
   "source": []
  }
 ],
 "metadata": {
  "kernelspec": {
   "display_name": "Python 3",
   "language": "python",
   "name": "python3"
  },
  "language_info": {
   "codemirror_mode": {
    "name": "ipython",
    "version": 3
   },
   "file_extension": ".py",
   "mimetype": "text/x-python",
   "name": "python",
   "nbconvert_exporter": "python",
   "pygments_lexer": "ipython3",
   "version": "3.7.3"
  }
 },
 "nbformat": 4,
 "nbformat_minor": 2
}
